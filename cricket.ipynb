{
 "cells": [
  {
   "cell_type": "code",
   "execution_count": 1,
   "metadata": {},
   "outputs": [],
   "source": [
    "import pandas as pd\n",
    "import numpy as np\n",
    "import matplotlib.pyplot as plt\n",
    "import seaborn as sns\n",
    "import plotly.express as px\n",
    "import plotly.graph_objects as go"
   ]
  },
  {
   "cell_type": "code",
   "execution_count": 2,
   "metadata": {},
   "outputs": [
    {
     "data": {
      "text/html": [
       "<div>\n",
       "<style scoped>\n",
       "    .dataframe tbody tr th:only-of-type {\n",
       "        vertical-align: middle;\n",
       "    }\n",
       "\n",
       "    .dataframe tbody tr th {\n",
       "        vertical-align: top;\n",
       "    }\n",
       "\n",
       "    .dataframe thead th {\n",
       "        text-align: right;\n",
       "    }\n",
       "</style>\n",
       "<table border=\"1\" class=\"dataframe\">\n",
       "  <thead>\n",
       "    <tr style=\"text-align: right;\">\n",
       "      <th></th>\n",
       "      <th>mid</th>\n",
       "      <th>date</th>\n",
       "      <th>venue</th>\n",
       "      <th>bat_team</th>\n",
       "      <th>bowl_team</th>\n",
       "      <th>batsman</th>\n",
       "      <th>bowler</th>\n",
       "      <th>runs</th>\n",
       "      <th>wickets</th>\n",
       "      <th>overs</th>\n",
       "      <th>runs_last_5</th>\n",
       "      <th>wickets_last_5</th>\n",
       "      <th>striker</th>\n",
       "      <th>non-striker</th>\n",
       "      <th>total</th>\n",
       "    </tr>\n",
       "  </thead>\n",
       "  <tbody>\n",
       "    <tr>\n",
       "      <th>0</th>\n",
       "      <td>1</td>\n",
       "      <td>2008-04-18</td>\n",
       "      <td>M Chinnaswamy Stadium</td>\n",
       "      <td>Kolkata Knight Riders</td>\n",
       "      <td>Royal Challengers Bangalore</td>\n",
       "      <td>SC Ganguly</td>\n",
       "      <td>P Kumar</td>\n",
       "      <td>1</td>\n",
       "      <td>0</td>\n",
       "      <td>0.1</td>\n",
       "      <td>1</td>\n",
       "      <td>0</td>\n",
       "      <td>0</td>\n",
       "      <td>0</td>\n",
       "      <td>222</td>\n",
       "    </tr>\n",
       "    <tr>\n",
       "      <th>1</th>\n",
       "      <td>1</td>\n",
       "      <td>2008-04-18</td>\n",
       "      <td>M Chinnaswamy Stadium</td>\n",
       "      <td>Kolkata Knight Riders</td>\n",
       "      <td>Royal Challengers Bangalore</td>\n",
       "      <td>BB McCullum</td>\n",
       "      <td>P Kumar</td>\n",
       "      <td>1</td>\n",
       "      <td>0</td>\n",
       "      <td>0.2</td>\n",
       "      <td>1</td>\n",
       "      <td>0</td>\n",
       "      <td>0</td>\n",
       "      <td>0</td>\n",
       "      <td>222</td>\n",
       "    </tr>\n",
       "    <tr>\n",
       "      <th>2</th>\n",
       "      <td>1</td>\n",
       "      <td>2008-04-18</td>\n",
       "      <td>M Chinnaswamy Stadium</td>\n",
       "      <td>Kolkata Knight Riders</td>\n",
       "      <td>Royal Challengers Bangalore</td>\n",
       "      <td>BB McCullum</td>\n",
       "      <td>P Kumar</td>\n",
       "      <td>2</td>\n",
       "      <td>0</td>\n",
       "      <td>0.2</td>\n",
       "      <td>2</td>\n",
       "      <td>0</td>\n",
       "      <td>0</td>\n",
       "      <td>0</td>\n",
       "      <td>222</td>\n",
       "    </tr>\n",
       "    <tr>\n",
       "      <th>3</th>\n",
       "      <td>1</td>\n",
       "      <td>2008-04-18</td>\n",
       "      <td>M Chinnaswamy Stadium</td>\n",
       "      <td>Kolkata Knight Riders</td>\n",
       "      <td>Royal Challengers Bangalore</td>\n",
       "      <td>BB McCullum</td>\n",
       "      <td>P Kumar</td>\n",
       "      <td>2</td>\n",
       "      <td>0</td>\n",
       "      <td>0.3</td>\n",
       "      <td>2</td>\n",
       "      <td>0</td>\n",
       "      <td>0</td>\n",
       "      <td>0</td>\n",
       "      <td>222</td>\n",
       "    </tr>\n",
       "    <tr>\n",
       "      <th>4</th>\n",
       "      <td>1</td>\n",
       "      <td>2008-04-18</td>\n",
       "      <td>M Chinnaswamy Stadium</td>\n",
       "      <td>Kolkata Knight Riders</td>\n",
       "      <td>Royal Challengers Bangalore</td>\n",
       "      <td>BB McCullum</td>\n",
       "      <td>P Kumar</td>\n",
       "      <td>2</td>\n",
       "      <td>0</td>\n",
       "      <td>0.4</td>\n",
       "      <td>2</td>\n",
       "      <td>0</td>\n",
       "      <td>0</td>\n",
       "      <td>0</td>\n",
       "      <td>222</td>\n",
       "    </tr>\n",
       "  </tbody>\n",
       "</table>\n",
       "</div>"
      ],
      "text/plain": [
       "   mid        date                  venue               bat_team  \\\n",
       "0    1  2008-04-18  M Chinnaswamy Stadium  Kolkata Knight Riders   \n",
       "1    1  2008-04-18  M Chinnaswamy Stadium  Kolkata Knight Riders   \n",
       "2    1  2008-04-18  M Chinnaswamy Stadium  Kolkata Knight Riders   \n",
       "3    1  2008-04-18  M Chinnaswamy Stadium  Kolkata Knight Riders   \n",
       "4    1  2008-04-18  M Chinnaswamy Stadium  Kolkata Knight Riders   \n",
       "\n",
       "                     bowl_team      batsman   bowler  runs  wickets  overs  \\\n",
       "0  Royal Challengers Bangalore   SC Ganguly  P Kumar     1        0    0.1   \n",
       "1  Royal Challengers Bangalore  BB McCullum  P Kumar     1        0    0.2   \n",
       "2  Royal Challengers Bangalore  BB McCullum  P Kumar     2        0    0.2   \n",
       "3  Royal Challengers Bangalore  BB McCullum  P Kumar     2        0    0.3   \n",
       "4  Royal Challengers Bangalore  BB McCullum  P Kumar     2        0    0.4   \n",
       "\n",
       "   runs_last_5  wickets_last_5  striker  non-striker  total  \n",
       "0            1               0        0            0    222  \n",
       "1            1               0        0            0    222  \n",
       "2            2               0        0            0    222  \n",
       "3            2               0        0            0    222  \n",
       "4            2               0        0            0    222  "
      ]
     },
     "execution_count": 2,
     "metadata": {},
     "output_type": "execute_result"
    }
   ],
   "source": [
    "dataset = pd.read_csv(\"ipl_data.csv\")\n",
    "dataset.head()"
   ]
  },
  {
   "cell_type": "code",
   "execution_count": 3,
   "metadata": {},
   "outputs": [
    {
     "data": {
      "text/plain": [
       "mid               0\n",
       "date              0\n",
       "venue             0\n",
       "bat_team          0\n",
       "bowl_team         0\n",
       "batsman           0\n",
       "bowler            0\n",
       "runs              0\n",
       "wickets           0\n",
       "overs             0\n",
       "runs_last_5       0\n",
       "wickets_last_5    0\n",
       "striker           0\n",
       "non-striker       0\n",
       "total             0\n",
       "dtype: int64"
      ]
     },
     "execution_count": 3,
     "metadata": {},
     "output_type": "execute_result"
    }
   ],
   "source": [
    "dataset.isnull().sum()"
   ]
  },
  {
   "cell_type": "code",
   "execution_count": 4,
   "metadata": {},
   "outputs": [],
   "source": [
    "df = dataset.drop(['date', 'runs', 'wickets', 'overs', 'runs_last_5', 'wickets_last_5','mid', 'striker', 'non-striker'], axis =1)"
   ]
  },
  {
   "cell_type": "code",
   "execution_count": 5,
   "metadata": {},
   "outputs": [],
   "source": [
    "X = df.drop(['total'], axis =1)\n",
    "y = df['total']"
   ]
  },
  {
   "cell_type": "code",
   "execution_count": 6,
   "metadata": {},
   "outputs": [],
   "source": [
    "from sklearn.preprocessing import LabelEncoder\n",
    "\n",
    "venue_encoder = LabelEncoder()\n",
    "batting_team_encoder = LabelEncoder()\n",
    "bowling_team_encoder = LabelEncoder()\n",
    "striker_encoder = LabelEncoder()\n",
    "bowler_encoder = LabelEncoder()\n",
    "\n",
    "X['venue'] = venue_encoder.fit_transform(X['venue'])\n",
    "X['bat_team'] = batting_team_encoder.fit_transform(X['bat_team'])\n",
    "X['bowl_team'] = bowling_team_encoder.fit_transform(X['bowl_team'])\n",
    "X['batsman'] = striker_encoder.fit_transform(X['batsman'])\n",
    "X['bowler'] = bowler_encoder.fit_transform(X['bowler'])\n"
   ]
  },
  {
   "cell_type": "code",
   "execution_count": 7,
   "metadata": {},
   "outputs": [],
   "source": [
    "from sklearn.model_selection import train_test_split\n",
    "X_train, X_test, y_train, y_test = train_test_split(X, y, test_size=0.3, random_state=42)"
   ]
  },
  {
   "cell_type": "code",
   "execution_count": 8,
   "metadata": {},
   "outputs": [],
   "source": [
    "from sklearn.preprocessing import MinMaxScaler\n",
    "scaler = MinMaxScaler()\n",
    "X_train_scaled = scaler.fit_transform(X_train)\n",
    "X_test_scaled = scaler.transform(X_test)"
   ]
  },
  {
   "cell_type": "code",
   "execution_count": 9,
   "metadata": {},
   "outputs": [],
   "source": [
    "import keras\n",
    "import tensorflow as tf\n",
    "\n",
    "model = keras.Sequential([\n",
    "\tkeras.layers.Input( shape=(X_train_scaled.shape[1],)), \n",
    "\tkeras.layers.Dense(512, activation='relu'), \n",
    "\tkeras.layers.Dense(216, activation='relu'), \n",
    "\tkeras.layers.Dense(1, activation='linear') \n",
    "])\n",
    "\n",
    "huber_loss = tf.keras.losses.Huber(delta=1.0) \n",
    "model.compile(optimizer='adam', loss=huber_loss) \n"
   ]
  },
  {
   "cell_type": "code",
   "execution_count": 10,
   "metadata": {},
   "outputs": [
    {
     "name": "stdout",
     "output_type": "stream",
     "text": [
      "Epoch 1/50\n",
      "832/832 [==============================] - 4s 3ms/step - loss: 32.8846 - val_loss: 22.2418\n",
      "Epoch 2/50\n",
      "832/832 [==============================] - 3s 3ms/step - loss: 22.3414 - val_loss: 22.0308\n",
      "Epoch 3/50\n",
      "832/832 [==============================] - 3s 4ms/step - loss: 22.3020 - val_loss: 21.9887\n",
      "Epoch 4/50\n",
      "832/832 [==============================] - 3s 4ms/step - loss: 22.2604 - val_loss: 21.9789\n",
      "Epoch 5/50\n",
      "832/832 [==============================] - 3s 3ms/step - loss: 22.2017 - val_loss: 22.1394\n",
      "Epoch 6/50\n",
      "832/832 [==============================] - 3s 4ms/step - loss: 22.1843 - val_loss: 21.9960\n",
      "Epoch 7/50\n",
      "832/832 [==============================] - 3s 3ms/step - loss: 22.2032 - val_loss: 22.0789\n",
      "Epoch 8/50\n",
      "832/832 [==============================] - 3s 3ms/step - loss: 22.1585 - val_loss: 22.0122\n",
      "Epoch 9/50\n",
      "832/832 [==============================] - 3s 3ms/step - loss: 22.1540 - val_loss: 21.8777\n",
      "Epoch 10/50\n",
      "832/832 [==============================] - 3s 4ms/step - loss: 22.1422 - val_loss: 21.8069\n",
      "Epoch 11/50\n",
      "832/832 [==============================] - 3s 3ms/step - loss: 22.0949 - val_loss: 21.8531\n",
      "Epoch 12/50\n",
      "832/832 [==============================] - 3s 4ms/step - loss: 22.1252 - val_loss: 22.2095\n",
      "Epoch 13/50\n",
      "832/832 [==============================] - 3s 4ms/step - loss: 22.0886 - val_loss: 21.9273\n",
      "Epoch 14/50\n",
      "832/832 [==============================] - 3s 3ms/step - loss: 22.1014 - val_loss: 21.7932\n",
      "Epoch 15/50\n",
      "832/832 [==============================] - 3s 4ms/step - loss: 22.0574 - val_loss: 21.7730\n",
      "Epoch 16/50\n",
      "832/832 [==============================] - 3s 4ms/step - loss: 22.0772 - val_loss: 21.7813\n",
      "Epoch 17/50\n",
      "832/832 [==============================] - 3s 3ms/step - loss: 22.0449 - val_loss: 22.0343\n",
      "Epoch 18/50\n",
      "832/832 [==============================] - 3s 4ms/step - loss: 22.1073 - val_loss: 21.7518\n",
      "Epoch 19/50\n",
      "832/832 [==============================] - 3s 4ms/step - loss: 22.0691 - val_loss: 21.8239\n",
      "Epoch 20/50\n",
      "832/832 [==============================] - 3s 4ms/step - loss: 22.0319 - val_loss: 21.7041\n",
      "Epoch 21/50\n",
      "832/832 [==============================] - 3s 3ms/step - loss: 22.0049 - val_loss: 21.6431\n",
      "Epoch 22/50\n",
      "832/832 [==============================] - 3s 3ms/step - loss: 21.8754 - val_loss: 21.5501\n",
      "Epoch 23/50\n",
      "832/832 [==============================] - 3s 4ms/step - loss: 21.8009 - val_loss: 21.4592\n",
      "Epoch 24/50\n",
      "832/832 [==============================] - 3s 4ms/step - loss: 21.7248 - val_loss: 21.4295\n",
      "Epoch 25/50\n",
      "832/832 [==============================] - 3s 3ms/step - loss: 21.7042 - val_loss: 21.3748\n",
      "Epoch 26/50\n",
      "832/832 [==============================] - 4s 4ms/step - loss: 21.6578 - val_loss: 21.3756\n",
      "Epoch 27/50\n",
      "832/832 [==============================] - 4s 5ms/step - loss: 21.6131 - val_loss: 21.3269\n",
      "Epoch 28/50\n",
      "832/832 [==============================] - 3s 4ms/step - loss: 21.5454 - val_loss: 21.2466\n",
      "Epoch 29/50\n",
      "832/832 [==============================] - 3s 4ms/step - loss: 21.5457 - val_loss: 21.1959\n",
      "Epoch 30/50\n",
      "832/832 [==============================] - 3s 4ms/step - loss: 21.4599 - val_loss: 21.1350\n",
      "Epoch 31/50\n",
      "832/832 [==============================] - 3s 4ms/step - loss: 21.3752 - val_loss: 21.1702\n",
      "Epoch 32/50\n",
      "832/832 [==============================] - 3s 3ms/step - loss: 21.3727 - val_loss: 21.7034\n",
      "Epoch 33/50\n",
      "832/832 [==============================] - 3s 3ms/step - loss: 21.2571 - val_loss: 20.9690\n",
      "Epoch 34/50\n",
      "832/832 [==============================] - 3s 3ms/step - loss: 21.2340 - val_loss: 20.9926\n",
      "Epoch 35/50\n",
      "832/832 [==============================] - 3s 4ms/step - loss: 21.1135 - val_loss: 20.8204\n",
      "Epoch 36/50\n",
      "832/832 [==============================] - 3s 4ms/step - loss: 21.0399 - val_loss: 21.1787\n",
      "Epoch 37/50\n",
      "832/832 [==============================] - 3s 4ms/step - loss: 20.9512 - val_loss: 20.6731\n",
      "Epoch 38/50\n",
      "832/832 [==============================] - 3s 4ms/step - loss: 20.9007 - val_loss: 20.6678\n",
      "Epoch 39/50\n",
      "832/832 [==============================] - 3s 4ms/step - loss: 20.7842 - val_loss: 20.7334\n",
      "Epoch 40/50\n",
      "832/832 [==============================] - 3s 4ms/step - loss: 20.6745 - val_loss: 20.6815\n",
      "Epoch 41/50\n",
      "832/832 [==============================] - 3s 4ms/step - loss: 20.5819 - val_loss: 20.2195\n",
      "Epoch 42/50\n",
      "832/832 [==============================] - 3s 4ms/step - loss: 20.4525 - val_loss: 20.5403\n",
      "Epoch 43/50\n",
      "832/832 [==============================] - 3s 3ms/step - loss: 20.2930 - val_loss: 19.9628\n",
      "Epoch 44/50\n",
      "832/832 [==============================] - 3s 4ms/step - loss: 20.1424 - val_loss: 20.0056\n",
      "Epoch 45/50\n",
      "832/832 [==============================] - 3s 3ms/step - loss: 20.0176 - val_loss: 19.6984\n",
      "Epoch 46/50\n",
      "832/832 [==============================] - 3s 3ms/step - loss: 19.8808 - val_loss: 19.7625\n",
      "Epoch 47/50\n",
      "832/832 [==============================] - 3s 3ms/step - loss: 19.7577 - val_loss: 19.4680\n",
      "Epoch 48/50\n",
      "832/832 [==============================] - 3s 3ms/step - loss: 19.6221 - val_loss: 19.3833\n",
      "Epoch 49/50\n",
      "832/832 [==============================] - 3s 4ms/step - loss: 19.5029 - val_loss: 19.3355\n",
      "Epoch 50/50\n",
      "832/832 [==============================] - 3s 4ms/step - loss: 19.4185 - val_loss: 19.1237\n"
     ]
    },
    {
     "data": {
      "text/plain": [
       "<keras.src.callbacks.History at 0x2b45b34ad90>"
      ]
     },
     "execution_count": 10,
     "metadata": {},
     "output_type": "execute_result"
    }
   ],
   "source": [
    "model.fit(X_train_scaled, y_train, epochs=50, batch_size=64, validation_data=(X_test_scaled, y_test))"
   ]
  },
  {
   "cell_type": "code",
   "execution_count": 11,
   "metadata": {},
   "outputs": [
    {
     "data": {
      "text/plain": [
       "<Axes: >"
      ]
     },
     "execution_count": 11,
     "metadata": {},
     "output_type": "execute_result"
    },
    {
     "data": {
      "image/png": "[encoded data removed]",
      "text/plain": [
       "<Figure size 640x480 with 1 Axes>"
      ]
     },
     "metadata": {},
     "output_type": "display_data"
    }
   ],
   "source": [
    "model_losses = pd.DataFrame(model.history.history)\n",
    "model_losses.plot()"
   ]
  },
  {
   "cell_type": "code",
   "execution_count": 12,
   "metadata": {},
   "outputs": [
    {
     "name": "stdout",
     "output_type": "stream",
     "text": [
      "713/713 [==============================] - 1s 1ms/step\n"
     ]
    },
    {
     "data": {
      "text/plain": [
       "19.614371388608284"
      ]
     },
     "execution_count": 12,
     "metadata": {},
     "output_type": "execute_result"
    }
   ],
   "source": [
    "# Make predictions\n",
    "predictions = model.predict(X_test_scaled)\n",
    "\n",
    "from sklearn.metrics import mean_absolute_error,mean_squared_error\n",
    "mean_absolute_error(y_test,predictions)"
   ]
  },
  {
   "cell_type": "code",
   "execution_count": 13,
   "metadata": {},
   "outputs": [
    {
     "name": "stderr",
     "output_type": "stream",
     "text": [
      "c:\\Users\\Kshitij\\AppData\\Local\\Programs\\Python\\Python311\\Lib\\site-packages\\keras\\src\\engine\\training.py:3079: UserWarning: You are saving your model as an HDF5 file via `model.save()`. This file format is considered legacy. We recommend using instead the native Keras format, e.g. `model.save('my_model.keras')`.\n",
      "  saving_api.save_model(\n"
     ]
    }
   ],
   "source": [
    "model.save('model.h5')"
   ]
  }
 ],
 "metadata": {
  "kernelspec": {
   "display_name": "Python 3",
   "language": "python",
   "name": "python3"
  },
  "language_info": {
   "codemirror_mode": {
    "name": "ipython",
    "version": 3
   },
   "file_extension": ".py",
   "mimetype": "text/x-python",
   "name": "python",
   "nbconvert_exporter": "python",
   "pygments_lexer": "ipython3",
   "version": "3.11.0"
  }
 },
 "nbformat": 4,
 "nbformat_minor": 2
}
